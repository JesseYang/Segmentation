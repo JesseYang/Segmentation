{
 "cells": [
  {
   "cell_type": "markdown",
   "metadata": {
    "collapsed": true,
    "deletable": true,
    "editable": true
   },
   "source": [
    "#### 功能说明：\n",
    "+ 对原始简笔画分割数据进行处理，生成用于训练的数据\n",
    "+ txt文件中一行为一个图片的数据，数据以空格分割，第一个元素是图片路径，后面元素依次是每一个物体的xmin，ymin，xmax和ymax\n",
    "\n",
    "#### 原数据格式要求：\n",
    "+ 数据存放在doodles/{动物名称}指向的文件夹中，该文件夹中的文件包括：\n",
    "    + 224x224的原图，名称为{uuid}.png\n",
    "    + 224x224的分割图，名称为{uuid}.{n}.png，其中n为分割部署的序号，从0开始\n",
    "    + {uuid}.json，为骨骼标注结果，在分割任务中应忽略\n",
    "    + 224x224的骨骼标注图，是给人看的，机器应忽略"
   ]
  },
  {
   "cell_type": "code",
   "execution_count": 1,
   "metadata": {
    "collapsed": true
   },
   "outputs": [],
   "source": [
    "import os\n",
    "from scipy import misc\n",
    "import json\n",
    "import shutil\n",
    "from matplotlib import pyplot as plt\n",
    "import numpy as np\n",
    "import numpy.ma as ma\n",
    "%matplotlib inline"
   ]
  },
  {
   "cell_type": "markdown",
   "metadata": {
    "collapsed": true,
    "deletable": true,
    "editable": true
   },
   "source": [
    "#### 可配置的参数：\n",
    "+ 动物名称，需要和原始文件夹对应，准备好的数据也将存放在data\\_{动物名称}文件夹中"
   ]
  },
  {
   "cell_type": "code",
   "execution_count": 2,
   "metadata": {
    "collapsed": true,
    "deletable": true,
    "editable": true
   },
   "outputs": [],
   "source": [
    "animal = \"fox\""
   ]
  },
  {
   "cell_type": "code",
   "execution_count": null,
   "metadata": {
    "collapsed": true,
    "deletable": true,
    "editable": true
   },
   "outputs": [],
   "source": []
  },
  {
   "cell_type": "code",
   "execution_count": 3,
   "metadata": {
    "collapsed": false,
    "deletable": true,
    "editable": true
   },
   "outputs": [],
   "source": [
    "raw_data_dir = 'doodles/' + animal\n",
    "data_dir_root = 'data_' + animal\n",
    "\n",
    "if os.path.isdir(data_dir_root):\n",
    "    shutil.rmtree(data_dir_root)\n",
    "os.mkdir(data_dir_root)\n",
    "\n",
    "img_dir = os.path.join(data_dir_root, 'images')\n",
    "label_dir = os.path.join(data_dir_root, 'labels')\n",
    "label_img_dir = os.path.join(data_dir_root, 'label_images')\n",
    "os.mkdir(img_dir)\n",
    "os.mkdir(label_dir)\n",
    "os.mkdir(label_img_dir)"
   ]
  },
  {
   "cell_type": "code",
   "execution_count": null,
   "metadata": {
    "collapsed": true,
    "deletable": true,
    "editable": true
   },
   "outputs": [],
   "source": []
  },
  {
   "cell_type": "code",
   "execution_count": 4,
   "metadata": {
    "collapsed": false,
    "deletable": true,
    "editable": true
   },
   "outputs": [],
   "source": [
    "conf_path = os.path.join(raw_data_dir, 'conf.json')\n",
    "with open(conf_path) as f:\n",
    "    conf = json.loads(f.read())\n",
    "label_num = conf['obj_num']"
   ]
  },
  {
   "cell_type": "code",
   "execution_count": 5,
   "metadata": {
    "collapsed": false,
    "deletable": true,
    "editable": true
   },
   "outputs": [],
   "source": [
    "# label_num = 4\n",
    "records = []\n",
    "img_names = os.listdir(raw_data_dir)\n",
    "for img_name in img_names:\n",
    "    # only fetch the original image\n",
    "    if \"mask\" in img_name or \"json\" in img_name or \"result\" in img_name:\n",
    "        continue\n",
    "    \n",
    "    img_path = os.path.join(raw_data_dir, img_name)\n",
    "    img = misc.imread(img_path)\n",
    "    label_data = np.ones(img.shape[0:2], dtype='byte')\n",
    "    for label_idx in range(label_num):\n",
    "        mask_path = img_path.replace(\"png\", \"mask.\" + str(label_idx) + \".png\")\n",
    "        cur_label_img = misc.imread(mask_path, mode='L')\n",
    "        cur_label_img = np.minimum(cur_label_img, np.ones(cur_label_img.shape))\n",
    "        label_data_mx = ma.masked_array(label_data, mask=cur_label_img)\n",
    "        # label 0: don't care\n",
    "        # label 1: background\n",
    "        # label 2 and above: objects\n",
    "        # Thus, the object label should start from 2\n",
    "        ma.set_fill_value(label_data_mx, label_idx + 2)\n",
    "        label_data = label_data_mx.filled()\n",
    "    # save results to file\n",
    "    new_img_path = os.path.join(img_dir, img_name)\n",
    "    misc.imsave(new_img_path, img)\n",
    "    label_img_path = os.path.join(label_img_dir, img_name)\n",
    "    misc.imsave(label_img_path, label_data)\n",
    "    label_path = os.path.join(label_dir, img_name).replace('.png', '.dat')\n",
    "    label_file = open(label_path, \"wb\")\n",
    "    byte_data = bytearray(label_data)\n",
    "    label_file.write(byte_data)\n",
    "    label_file.close()\n",
    "    \n",
    "    records.append(new_img_path + \"\\n\")\n",
    "#     break"
   ]
  },
  {
   "cell_type": "code",
   "execution_count": null,
   "metadata": {
    "collapsed": true,
    "deletable": true,
    "editable": true
   },
   "outputs": [],
   "source": []
  },
  {
   "cell_type": "code",
   "execution_count": 6,
   "metadata": {
    "collapsed": true,
    "deletable": true,
    "editable": true
   },
   "outputs": [],
   "source": [
    "# split into training set and test set\n",
    "test_ratio = 0.1\n",
    "total_num = len(records)\n",
    "test_num = int(test_ratio * total_num)\n",
    "train_num = total_num - test_num\n",
    "train_records = records[0:train_num]\n",
    "test_records = records[train_num:]"
   ]
  },
  {
   "cell_type": "code",
   "execution_count": 7,
   "metadata": {
    "collapsed": false,
    "deletable": true,
    "editable": true
   },
   "outputs": [],
   "source": [
    "# save to text file\n",
    "all_out_file = open(animal + \"_all.txt\", \"w\")\n",
    "for record in records:\n",
    "    all_out_file.write(record)\n",
    "all_out_file.close()\n",
    "\n",
    "train_out_file = open(animal + \"_train.txt\", \"w\")\n",
    "for record in train_records:\n",
    "    train_out_file.write(record)\n",
    "train_out_file.close()\n",
    "\n",
    "test_out_file = open(animal + \"_test.txt\", \"w\")\n",
    "for record in test_records:\n",
    "    test_out_file.write(record)\n",
    "test_out_file.close()"
   ]
  },
  {
   "cell_type": "code",
   "execution_count": null,
   "metadata": {
    "collapsed": true,
    "deletable": true,
    "editable": true
   },
   "outputs": [],
   "source": []
  },
  {
   "cell_type": "code",
   "execution_count": null,
   "metadata": {
    "collapsed": true,
    "deletable": true,
    "editable": true
   },
   "outputs": [],
   "source": []
  },
  {
   "cell_type": "code",
   "execution_count": null,
   "metadata": {
    "collapsed": true,
    "deletable": true,
    "editable": true
   },
   "outputs": [],
   "source": []
  },
  {
   "cell_type": "code",
   "execution_count": 8,
   "metadata": {
    "collapsed": false,
    "deletable": true,
    "editable": true
   },
   "outputs": [
    {
     "data": {
      "text/plain": [
       "<matplotlib.image.AxesImage at 0x7f981213ba20>"
      ]
     },
     "execution_count": 8,
     "metadata": {},
     "output_type": "execute_result"
    },
    {
     "data": {
      "image/png": "[encoded data removed]",
      "text/plain": [
       "<matplotlib.figure.Figure at 0x7f98c7d79c88>"
      ]
     },
     "metadata": {},
     "output_type": "display_data"
    }
   ],
   "source": [
    "plt.imshow(img)"
   ]
  },
  {
   "cell_type": "code",
   "execution_count": 9,
   "metadata": {
    "collapsed": false,
    "deletable": true,
    "editable": true
   },
   "outputs": [
    {
     "data": {
      "text/plain": [
       "<matplotlib.image.AxesImage at 0x7f9812098e48>"
      ]
     },
     "execution_count": 9,
     "metadata": {},
     "output_type": "execute_result"
    },
    {
     "data": {
      "image/png": "[encoded data removed]",
      "text/plain": [
       "<matplotlib.figure.Figure at 0x7f98120bfa20>"
      ]
     },
     "metadata": {},
     "output_type": "display_data"
    }
   ],
   "source": [
    "plt.imshow(label_data, cmap='gray')"
   ]
  },
  {
   "cell_type": "code",
   "execution_count": null,
   "metadata": {
    "collapsed": true,
    "deletable": true,
    "editable": true
   },
   "outputs": [],
   "source": []
  },
  {
   "cell_type": "code",
   "execution_count": null,
   "metadata": {
    "collapsed": true,
    "deletable": true,
    "editable": true
   },
   "outputs": [],
   "source": []
  },
  {
   "cell_type": "code",
   "execution_count": null,
   "metadata": {
    "collapsed": true,
    "deletable": true,
    "editable": true
   },
   "outputs": [],
   "source": []
  }
 ],
 "metadata": {
  "kernelspec": {
   "display_name": "Python 3",
   "language": "python",
   "name": "python3"
  },
  "language_info": {
   "codemirror_mode": {
    "name": "ipython",
    "version": 3
   },
   "file_extension": ".py",
   "mimetype": "text/x-python",
   "name": "python",
   "nbconvert_exporter": "python",
   "pygments_lexer": "ipython3",
   "version": "3.5.2"
  }
 },
 "nbformat": 4,
 "nbformat_minor": 1
}
