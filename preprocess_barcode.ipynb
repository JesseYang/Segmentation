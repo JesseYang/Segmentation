{
 "cells": [
  {
   "cell_type": "code",
   "execution_count": 1,
   "metadata": {
    "collapsed": false,
    "deletable": true,
    "editable": true
   },
   "outputs": [],
   "source": [
    "import struct\n",
    "import os\n",
    "import numpy as np\n",
    "from scipy import misc\n",
    "import cv2\n",
    "from random import randint\n",
    "from IPython.core.debugger import Tracer"
   ]
  },
  {
   "cell_type": "code",
   "execution_count": 2,
   "metadata": {
    "collapsed": true,
    "deletable": true,
    "editable": true
   },
   "outputs": [],
   "source": [
    "%matplotlib inline\n",
    "import matplotlib\n",
    "import matplotlib.pyplot as plt"
   ]
  },
  {
   "cell_type": "code",
   "execution_count": 3,
   "metadata": {
    "collapsed": true,
    "deletable": true,
    "editable": true
   },
   "outputs": [],
   "source": [
    "def image_label_list(data_dir):\n",
    "    image_name_list = [ ]\n",
    "    label_image_name_list = []\n",
    "    label_name_list = [ ]\n",
    "    for (dirpath, dirnames, filenames) in os.walk(data_dir + '/labels'):\n",
    "        print \"Training set has \" + str(len(filenames)) + \" files.\"\n",
    "    for (dirpath, dirnames, filenames) in os.walk(data_dir + '/labels'):\n",
    "        label_name_list.extend(map(lambda x: data_dir + '/labels/' + x, filenames))\n",
    "        image_name_list.extend(map(lambda x: data_dir + '/images/' + x.replace('.dat', '.png'), filenames))\n",
    "        label_image_name_list.extend(map(lambda x: data_dir + '/label_images/' + x.replace('.dat', '.png'), filenames))\n",
    "        break\n",
    "    return image_name_list, label_image_name_list, label_name_list"
   ]
  },
  {
   "cell_type": "code",
   "execution_count": 4,
   "metadata": {
    "collapsed": false,
    "deletable": true,
    "editable": true
   },
   "outputs": [
    {
     "name": "stdout",
     "output_type": "stream",
     "text": [
      "Training set has 300 files.\n"
     ]
    }
   ],
   "source": [
    "dir = \"data_barcode/train\"\n",
    "crop_dir = \"data_barcode/crop\"\n",
    "image_name_list, label_image_name_list, label_name_list = image_label_list(dir)"
   ]
  },
  {
   "cell_type": "code",
   "execution_count": 5,
   "metadata": {
    "collapsed": false,
    "deletable": true,
    "editable": true
   },
   "outputs": [
    {
     "name": "stdout",
     "output_type": "stream",
     "text": [
      "0\n",
      "10\n",
      "20\n",
      "30\n",
      "40\n",
      "50\n",
      "60\n",
      "70\n",
      "80\n",
      "90\n",
      "100\n",
      "110\n",
      "120\n",
      "130\n",
      "140\n",
      "150\n",
      "160\n",
      "170\n",
      "180\n",
      "190\n",
      "200\n",
      "210\n",
      "220\n",
      "230\n",
      "240\n",
      "250\n",
      "260\n",
      "270\n",
      "280\n",
      "290\n"
     ]
    }
   ],
   "source": [
    "max_width = 0\n",
    "max_height = 0\n",
    "min_pad = 10\n",
    "crop_w = 800\n",
    "crop_h = 800\n",
    "for label_idx, label_name in enumerate(label_name_list):\n",
    "    if label_idx % 10 == 0:\n",
    "        print label_idx\n",
    "    image_name = image_name_list[label_idx]\n",
    "    label_image_name = label_image_name_list[label_idx]\n",
    "    image = misc.imread(image_name, mode='RGB')\n",
    "    label_image = misc.imread(label_image_name, mode='RGB')\n",
    "    height = image.shape[0]\n",
    "    width = image.shape[1]\n",
    "    f = open(label_name, \"rb\")\n",
    "    binary_data = f.read()\n",
    "    label = []\n",
    "    for d in binary_data:\n",
    "        label.append(struct.unpack('B', d)[0])\n",
    "    label = np.array(label, dtype=np.uint8)\n",
    "    label = label.reshape([height, width])\n",
    "    label_img = 2 - label\n",
    "#     print(label_img.shape)\n",
    "#     plt.imshow(label_img, cmap='gray')\n",
    "    contours = cv2.findContours(label_img, cv2.RETR_LIST, cv2.CHAIN_APPROX_SIMPLE)\n",
    "    cnt = contours[0]\n",
    "    x, y, w, h = cv2.boundingRect(cnt)\n",
    "    if w > max_width:\n",
    "        max_width = w\n",
    "    if h > max_height:\n",
    "        max_height = h\n",
    "    \n",
    "    pad_w = crop_w - w\n",
    "    pad_h = crop_h - h\n",
    "    pad_left = randint(min_pad, pad_w - min_pad)\n",
    "    x_1 = np.maximum(x - pad_left, 0)\n",
    "    if x_1 + crop_w >= width:\n",
    "        x_1 = width - crop_w - 1\n",
    "    pad_top = randint(min_pad, pad_h - min_pad)\n",
    "    y_1 = np.maximum(y - pad_top, 0)\n",
    "    if y_1 + crop_h >= height:\n",
    "        y_1 = height - crop_h - 1\n",
    "    \n",
    "    \n",
    "    crop_img = image[y_1:y_1 + crop_h, x_1:x_1 + crop_w]\n",
    "    crop_label_img = label_image[y_1:y_1 + crop_h, x_1:x_1 + crop_w]\n",
    "    crop_label = label[y_1:y_1 + crop_h, x_1:x_1 + crop_w]\n",
    "    misc.imsave(image_name.replace('train', 'crop'), crop_img)\n",
    "    misc.imsave(label_image_name.replace('train', 'crop'), crop_label_img)\n",
    "    crop_label.astype('uint8').tofile(label_name.replace('train', 'crop'))\n",
    "#     plt.imshow(crop_label_img)\n",
    "#     plt.imshow(crop_label, cmap='gray')\n",
    "#     break"
   ]
  },
  {
   "cell_type": "code",
   "execution_count": null,
   "metadata": {
    "collapsed": true,
    "deletable": true,
    "editable": true
   },
   "outputs": [],
   "source": []
  }
 ],
 "metadata": {
  "kernelspec": {
   "display_name": "Python 3",
   "language": "python",
   "name": "python3"
  },
  "language_info": {
   "codemirror_mode": {
    "name": "ipython",
    "version": 3
   },
   "file_extension": ".py",
   "mimetype": "text/x-python",
   "name": "python",
   "nbconvert_exporter": "python",
   "pygments_lexer": "ipython3",
   "version": "3.5.2"
  }
 },
 "nbformat": 4,
 "nbformat_minor": 1
}
